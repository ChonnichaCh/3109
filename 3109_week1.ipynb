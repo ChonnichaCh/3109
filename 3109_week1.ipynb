{
  "nbformat": 4,
  "nbformat_minor": 0,
  "metadata": {
    "colab": {
      "provenance": [],
      "authorship_tag": "ABX9TyMdW5C3Bx7dfgssxhYbNp07",
      "include_colab_link": true
    },
    "kernelspec": {
      "name": "python3",
      "display_name": "Python 3"
    },
    "language_info": {
      "name": "python"
    }
  },
  "cells": [
    {
      "cell_type": "markdown",
      "metadata": {
        "id": "view-in-github",
        "colab_type": "text"
      },
      "source": [
        "<a href=\"https://colab.research.google.com/github/ChonnichaCh/3109/blob/main/3109_week1.ipynb\" target=\"_parent\"><img src=\"https://colab.research.google.com/assets/colab-badge.svg\" alt=\"Open In Colab\"/></a>"
      ]
    },
    {
      "cell_type": "code",
      "execution_count": null,
      "metadata": {
        "id": "7URr6vNmwr91"
      },
      "outputs": [],
      "source": []
    },
    {
      "cell_type": "markdown",
      "source": [
        "# Example"
      ],
      "metadata": {
        "id": "Zb25Qwzkbohr"
      }
    },
    {
      "cell_type": "markdown",
      "source": [
        "## 1.Hello world"
      ],
      "metadata": {
        "id": "pdGvkR0hbs-c"
      }
    },
    {
      "cell_type": "code",
      "source": [
        "# Never mind this statement, for compatibility reasons\n",
        "from __future__ import absolute_import, division, print_function, unicode_literals\n",
        "print(\"Hello World\")"
      ],
      "metadata": {
        "colab": {
          "base_uri": "https://localhost:8080/"
        },
        "id": "svy4u3J1bzzV",
        "outputId": "ebf9ffbd-21ce-46fd-8120-bbe1db29d537"
      },
      "execution_count": null,
      "outputs": [
        {
          "output_type": "stream",
          "name": "stdout",
          "text": [
            "Hello World\n"
          ]
        }
      ]
    },
    {
      "cell_type": "markdown",
      "source": [
        "## 2.Function, Conditionals, and lteration"
      ],
      "metadata": {
        "id": "muBnLJJ8b7rZ"
      }
    },
    {
      "cell_type": "code",
      "source": [
        "def HelloWorldXY(x, y):\n",
        "  if (x < 10):\n",
        "    print(\"Hello World, x was < 10\")\n",
        "  elif (x < 20):\n",
        "    print(\"Hello World, x was >= 10 but < 20\")\n",
        "  else:\n",
        "    print(\"Hello World, x was >= 20\")\n",
        "  return x + y\n",
        "for i in range(8, 25, 5): # i=8, 13, 18, 23 (start, stop, step)\n",
        "  print(\"--- Now running with i: {}\".format(i))\n",
        "  r = HelloWorldXY(i,i)\n",
        "  print(\"Result from HelloWorld: {}\".format(r))"
      ],
      "metadata": {
        "colab": {
          "base_uri": "https://localhost:8080/"
        },
        "id": "JRgrKUWGcDfx",
        "outputId": "debf566e-d776-461d-b4f1-352bcad9529e"
      },
      "execution_count": null,
      "outputs": [
        {
          "output_type": "stream",
          "name": "stdout",
          "text": [
            "--- Now running with i: 8\n",
            "Hello World, x was < 10\n",
            "Result from HelloWorld: 16\n",
            "--- Now running with i: 13\n",
            "Hello World, x was >= 10 but < 20\n",
            "Result from HelloWorld: 26\n",
            "--- Now running with i: 18\n",
            "Hello World, x was >= 10 but < 20\n",
            "Result from HelloWorld: 36\n",
            "--- Now running with i: 23\n",
            "Hello World, x was >= 20\n",
            "Result from HelloWorld: 46\n"
          ]
        }
      ]
    },
    {
      "cell_type": "code",
      "source": [
        "print(HelloWorldXY(1,2))"
      ],
      "metadata": {
        "colab": {
          "base_uri": "https://localhost:8080/"
        },
        "id": "InOva7O1cFYo",
        "outputId": "0793cec1-028c-4443-835b-4e8f3df4f4a8"
      },
      "execution_count": null,
      "outputs": [
        {
          "output_type": "stream",
          "name": "stdout",
          "text": [
            "Hello World, x was < 10\n",
            "3\n"
          ]
        }
      ]
    },
    {
      "cell_type": "markdown",
      "source": [
        "## 3.Various kinds of loops starting at () to 2"
      ],
      "metadata": {
        "id": "_eXC4JhbcT-p"
      }
    },
    {
      "cell_type": "code",
      "source": [
        "print(\"Iterate over the items. `range(2)` is like a list [0,1].\")\n",
        "for i in range(2):\n",
        "  print(i)\n",
        "print(\"Iterate over an actual list.\")\n",
        "for i in [0,1]:\n",
        "  print(i)\n",
        "print(\"While works\")\n",
        "i = 0\n",
        "while i < 2:\n",
        "  print(i)\n",
        "  i += 1"
      ],
      "metadata": {
        "colab": {
          "base_uri": "https://localhost:8080/"
        },
        "id": "5grELuj4ch5x",
        "outputId": "d1e6712b-bb36-4501-fc95-64481c9a44a8"
      },
      "execution_count": null,
      "outputs": [
        {
          "output_type": "stream",
          "name": "stdout",
          "text": [
            "Iterate over the items. `range(2)` is like a list [0,1].\n",
            "0\n",
            "1\n",
            "Iterate over an actual list.\n",
            "0\n",
            "1\n",
            "While works\n",
            "0\n",
            "1\n"
          ]
        }
      ]
    },
    {
      "cell_type": "markdown",
      "source": [
        "## 4.Numpy and lists"
      ],
      "metadata": {
        "id": "6LB77Y5Mcoap"
      }
    },
    {
      "cell_type": "markdown",
      "source": [
        "**Numpy** as np is the fundamental package for scientific computing with Python.\n",
        "\n",
        "**Lists (Array)** are data structure in Python that is a mutable, or changeable, ordered sequence of elements. Each\n",
        "element or value that is inside of a list is called an item. Just as strings are defined as characters between quotes,\n",
        "lists are defined by having values between square brackets [ ]."
      ],
      "metadata": {
        "id": "wY3xqdCdcu6Z"
      }
    },
    {
      "cell_type": "code",
      "source": [
        "sea_creatures = ['shark', 'cuttlefish', 'squid', 'mantis shrimp', 'anemone']"
      ],
      "metadata": {
        "id": "8Y9K-OUfdK9-"
      },
      "execution_count": null,
      "outputs": []
    },
    {
      "cell_type": "code",
      "source": [
        "sea_creatures[0] = 'shark'\n",
        "sea_creatures[2] = 'squid'\n",
        "sea_creatures[4] = 'anemone'"
      ],
      "metadata": {
        "id": "hbpohV8HdN4S"
      },
      "execution_count": null,
      "outputs": []
    },
    {
      "cell_type": "code",
      "source": [
        "import numpy as np # Make numpy available using np.\n",
        "# Create a numpy array, and append an element\n",
        "a = np.array([\"Hello\", \"World\"])\n",
        "a = np.append(a, \"!\")\n",
        "print(\"Current array: {}\".format(a))\n",
        "print(\"Printing each element\")\n",
        "for i in a:\n",
        "  print(i)\n",
        "print(\"\\nPrinting each element and their index\")\n",
        "for i,e in enumerate(a):\n",
        "  print(\"Index: {}, was: {}\".format(i, e))"
      ],
      "metadata": {
        "colab": {
          "base_uri": "https://localhost:8080/"
        },
        "id": "RjHvEfLOdQps",
        "outputId": "398ae56b-e96f-4a2b-cd3f-c8e8fe5d0ada"
      },
      "execution_count": null,
      "outputs": [
        {
          "output_type": "stream",
          "name": "stdout",
          "text": [
            "Current array: ['Hello' 'World' '!']\n",
            "Printing each element\n",
            "Hello\n",
            "World\n",
            "!\n",
            "\n",
            "Printing each element and their index\n",
            "Index: 0, was: Hello\n",
            "Index: 1, was: World\n",
            "Index: 2, was: !\n"
          ]
        }
      ]
    },
    {
      "cell_type": "code",
      "source": [
        "print(\"\\nShowing some basic math on arrays\")\n",
        "b = np.array([0,1,4,3,2])\n",
        "print(\"Max: {}\".format(np.max(b)))\n",
        "print(\"Average: {}\".format(np.average(b)))\n",
        "print(\"Max index: {}\".format(np.argmax(b)))"
      ],
      "metadata": {
        "colab": {
          "base_uri": "https://localhost:8080/"
        },
        "id": "DKmretWudS1Q",
        "outputId": "ca933e69-070f-45e7-fba4-3fadf2eb31d3"
      },
      "execution_count": null,
      "outputs": [
        {
          "output_type": "stream",
          "name": "stdout",
          "text": [
            "\n",
            "Showing some basic math on arrays\n",
            "Max: 4\n",
            "Average: 2.0\n",
            "Max index: 2\n"
          ]
        }
      ]
    },
    {
      "cell_type": "code",
      "source": [
        "print(\"\\nYou can print the type of anything\")\n",
        "print(\"Type of b: {}, type of b[0]: {}\".format(type(b), type(b[0])))"
      ],
      "metadata": {
        "colab": {
          "base_uri": "https://localhost:8080/"
        },
        "id": "7B200_pzdZUb",
        "outputId": "dd4c86d1-6652-4b39-f92a-12c9ace95a3a"
      },
      "execution_count": null,
      "outputs": [
        {
          "output_type": "stream",
          "name": "stdout",
          "text": [
            "\n",
            "You can print the type of anything\n",
            "Type of b: <class 'numpy.ndarray'>, type of b[0]: <class 'numpy.int64'>\n"
          ]
        }
      ]
    },
    {
      "cell_type": "code",
      "source": [
        "print(\"\\nUse numpy to create a [3,3] dimension array with random number\")\n",
        "c = np.random.rand(3, 3)\n",
        "print(c)"
      ],
      "metadata": {
        "colab": {
          "base_uri": "https://localhost:8080/"
        },
        "id": "OgstCTMVdbby",
        "outputId": "4817dd57-0354-4c68-89f2-c09b6bf9ee63"
      },
      "execution_count": null,
      "outputs": [
        {
          "output_type": "stream",
          "name": "stdout",
          "text": [
            "\n",
            "Use numpy to create a [3,3] dimension array with random number\n",
            "[[0.36725405 0.8605195  0.32611184]\n",
            " [0.28975139 0.22777183 0.06422646]\n",
            " [0.94573007 0.13592289 0.26858896]]\n"
          ]
        }
      ]
    },
    {
      "cell_type": "code",
      "source": [
        "print(\"\\nShowing some basic math on arrays\")\n",
        "b = np.array([0,1,4,3,2])\n",
        "print(\"Max: {}\".format(np.max(b)))\n",
        "print(\"Average: {}\".format(np.average(b)))\n",
        "print(\"Max index: {}\".format(np.argmax(b)))"
      ],
      "metadata": {
        "colab": {
          "base_uri": "https://localhost:8080/"
        },
        "id": "W__qOo3IddQO",
        "outputId": "0a2ec01d-d352-4f0a-b27e-c3e0888f2c98"
      },
      "execution_count": null,
      "outputs": [
        {
          "output_type": "stream",
          "name": "stdout",
          "text": [
            "\n",
            "Showing some basic math on arrays\n",
            "Max: 4\n",
            "Average: 2.0\n",
            "Max index: 2\n"
          ]
        }
      ]
    },
    {
      "cell_type": "code",
      "source": [
        "print(\"\\nYou can print the dimensions of arrays\")\n",
        "print(\"Shape of a: {}\".format(a.shape))\n",
        "print(\"Shape of b: {}\".format(b.shape))\n",
        "print(\"Shape of c: {}\".format(c.shape))"
      ],
      "metadata": {
        "colab": {
          "base_uri": "https://localhost:8080/"
        },
        "id": "N9qjaIH3dfBH",
        "outputId": "7187a05a-81b1-4930-937d-f09682f50a72"
      },
      "execution_count": null,
      "outputs": [
        {
          "output_type": "stream",
          "name": "stdout",
          "text": [
            "\n",
            "You can print the dimensions of arrays\n",
            "Shape of a: (3,)\n",
            "Shape of b: (5,)\n",
            "Shape of c: (3, 3)\n"
          ]
        }
      ]
    },
    {
      "cell_type": "markdown",
      "source": [
        "## 5.Colab Specifics: to run commands at the VM's terminal, prefix the line with an exclamation point(!)"
      ],
      "metadata": {
        "id": "nLe86q52dg_S"
      }
    },
    {
      "cell_type": "code",
      "source": [
        "print(\"\\nDoing $ls on filesystem\")\n",
        "!ls -l\n",
        "!pwd"
      ],
      "metadata": {
        "colab": {
          "base_uri": "https://localhost:8080/"
        },
        "id": "73_AvtnHdxuJ",
        "outputId": "d8a1a2d6-083f-4d03-8ee8-dfba8b3c269c"
      },
      "execution_count": null,
      "outputs": [
        {
          "output_type": "stream",
          "name": "stdout",
          "text": [
            "\n",
            "Doing $ls on filesystem\n",
            "total 4\n",
            "drwxr-xr-x 1 root root 4096 Sep  5 17:47 sample_data\n",
            "/content\n"
          ]
        }
      ]
    },
    {
      "cell_type": "code",
      "source": [
        "print(\"Install numpy\") # Just for test, numpy is actually preinstalled in all Colab instancs\n",
        "!pip install numpy"
      ],
      "metadata": {
        "colab": {
          "base_uri": "https://localhost:8080/"
        },
        "id": "c3fj7Gahd1gV",
        "outputId": "0238d869-bbac-4fc5-ea0e-bad710e13775"
      },
      "execution_count": null,
      "outputs": [
        {
          "output_type": "stream",
          "name": "stdout",
          "text": [
            "Install numpy\n",
            "Requirement already satisfied: numpy in /usr/local/lib/python3.10/dist-packages (1.26.4)\n"
          ]
        }
      ]
    },
    {
      "cell_type": "markdown",
      "source": [
        "# Exercise"
      ],
      "metadata": {
        "id": "t5t2Zxyjd9kn"
      }
    },
    {
      "cell_type": "markdown",
      "source": [
        "## 1.Colab: Create a code cell underneath this text cell and add code to:"
      ],
      "metadata": {
        "id": "COLwFYWNeB3E"
      }
    },
    {
      "cell_type": "markdown",
      "source": [
        "- List the path of the current directory(pwd)\n",
        "- Go to / (cd) and list the content(ls-l)"
      ],
      "metadata": {
        "id": "Z9I7lw_eeMzb"
      }
    },
    {
      "cell_type": "code",
      "source": [],
      "metadata": {
        "id": "qTcCFDN8ea2e"
      },
      "execution_count": null,
      "outputs": []
    },
    {
      "cell_type": "markdown",
      "source": [
        "## 2.Python lists without Numpy: Print the second item in the fruits list:"
      ],
      "metadata": {
        "id": "Mw3HZqyMef_X"
      }
    },
    {
      "cell_type": "markdown",
      "source": [
        "## 3.Change the value from \"apple\" to \"kiwi\", in the fruits list:"
      ],
      "metadata": {
        "id": "FlCdwa4feqyp"
      }
    },
    {
      "cell_type": "markdown",
      "source": [
        "## 4.Use the append method to add \"orange\" to the fruits list:"
      ],
      "metadata": {
        "id": "fC8ekyshe0Z9"
      }
    },
    {
      "cell_type": "markdown",
      "source": [
        "## 5.Use the insert method to add \"lemon\" as the second item in the fruits list:"
      ],
      "metadata": {
        "id": "KfnRc9Mme_ut"
      }
    },
    {
      "cell_type": "markdown",
      "source": [
        "## 6.Use the remove method to delete \"banana\" from the fruits list:"
      ],
      "metadata": {
        "id": "KbruzNoyfKj-"
      }
    },
    {
      "cell_type": "markdown",
      "source": [
        "## 7.Python If...Else: Print \"Hello World\" if a is greater than b:"
      ],
      "metadata": {
        "id": "HkamHddEfSgf"
      }
    },
    {
      "cell_type": "markdown",
      "source": [
        "## 8.Print \"Hello World\" if a is not equal to b:"
      ],
      "metadata": {
        "id": "HALaXZMafguo"
      }
    },
    {
      "cell_type": "markdown",
      "source": [
        "## 9.Print \"Yes\" if a is equal to b, otherwise print \"No\":"
      ],
      "metadata": {
        "id": "SckHgxgXfoyQ"
      }
    },
    {
      "cell_type": "markdown",
      "source": [
        "## 10.Print \"1\" if a is equal to b, print \"2\" if a is greater than b, otherwise print \"3\":"
      ],
      "metadata": {
        "id": "F7hV7542fzUz"
      }
    },
    {
      "cell_type": "markdown",
      "source": [
        "## 11.Print \"Hello\" if either a is equal to b, and c is equal to d:"
      ],
      "metadata": {
        "id": "Rv73qUmTgFQH"
      }
    },
    {
      "cell_type": "markdown",
      "source": [
        "## 12.Print \"Hello\" if either a is equal to b, or c is equal to d:"
      ],
      "metadata": {
        "id": "ZzHsIFXXgSLt"
      }
    },
    {
      "cell_type": "markdown",
      "source": [
        "## 13.Python Loops: Print i as long as i is less then 6:"
      ],
      "metadata": {
        "id": "H-zCvdwugdDH"
      }
    },
    {
      "cell_type": "markdown",
      "source": [
        "## 14.From #13 stop the loop if i is 3:"
      ],
      "metadata": {
        "id": "_GSsfcfugmQ1"
      }
    }
  ]
}